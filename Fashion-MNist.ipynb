{
 "cells": [
  {
   "cell_type": "code",
   "execution_count": 12,
   "id": "5120988d-fc03-46ca-856a-38f0aed25fe3",
   "metadata": {},
   "outputs": [],
   "source": [
    "import numpy as np\n",
    "import seaborn as sns\n",
    "import time\n",
    "import torch\n",
    "import torch.nn as nn\n",
    "import torch.nn.functional as F\n",
    "import torchvision\n",
    "import matplotlib.pyplot as plt\n",
    "from tqdm import tqdm\n",
    "from small2DNet import small2DNet\n",
    "from util import add_color, colorize, colorize_gaussian, calculate_correct_loss\n",
    "from colorMNist import colorMNist\n",
    "import random\n",
    "import colorsys\n",
    "import pickle"
   ]
  },
  {
   "cell_type": "code",
   "execution_count": 13,
   "id": "c8cbcdd6-a11a-4e37-a7c9-ef2dc7399cd6",
   "metadata": {},
   "outputs": [],
   "source": [
    "# Define a transform to normalize the data\n",
    "transform = torchvision.transforms.Compose([transforms.ToTensor(),\n",
    "                                torchvision.transforms.Lambda(add_color),\n",
    "                                torchvision.transforms.Normalize((0.5, 0.5, 0.5), (0.5, 0.5, 0.5))\n",
    "                               ])\n",
    "\n",
    "# Download and load the training data\n",
    "trainset = torchvision.datasets.FashionMNIST('datasets/MNIST_data/', download = False, train = True, transform = transform)\n",
    "testset = torchvision.datasets.FashionMNIST('datasets/MNIST_data/', download = False, train = False, transform = transform)"
   ]
  },
  {
   "cell_type": "code",
   "execution_count": 31,
   "id": "4b55cd73-fec2-467e-a37f-174799fa2be0",
   "metadata": {},
   "outputs": [
    {
     "name": "stdout",
     "output_type": "stream",
     "text": [
      "60000\n",
      "{9: 6000, 0: 6000, 3: 6000, 2: 6000, 7: 6000, 5: 6000, 1: 6000, 6: 6000, 4: 6000, 8: 6000}\n"
     ]
    }
   ],
   "source": [
    "labels = {}\n",
    "print(len(trainset))\n",
    "for x in trainset:\n",
    "    image = x[0]\n",
    "    label = x[1]\n",
    "    # plt.imshow(image.permute(1, 2, 0))\n",
    "    # print(label)\n",
    "    if label not in labels:\n",
    "        labels[label] = 0\n",
    "    labels[label] += 1\n",
    "    # break\n",
    "print(labels)"
   ]
  },
  {
   "cell_type": "code",
   "execution_count": null,
   "id": "b0f2315d-91dc-44fb-8e19-cdb293446655",
   "metadata": {},
   "outputs": [],
   "source": []
  }
 ],
 "metadata": {
  "kernelspec": {
   "display_name": "Python 3 (ipykernel)",
   "language": "python",
   "name": "python3"
  },
  "language_info": {
   "codemirror_mode": {
    "name": "ipython",
    "version": 3
   },
   "file_extension": ".py",
   "mimetype": "text/x-python",
   "name": "python",
   "nbconvert_exporter": "python",
   "pygments_lexer": "ipython3",
   "version": "3.8.12"
  }
 },
 "nbformat": 4,
 "nbformat_minor": 5
}

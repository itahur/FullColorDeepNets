{
 "cells": [
  {
   "cell_type": "code",
   "execution_count": 1,
   "id": "46b3da1d-c9bf-43cd-8670-ea51a9f04f9b",
   "metadata": {},
   "outputs": [],
   "source": [
    "import numpy as np\n",
    "import time\n",
    "import torch\n",
    "import torch.nn as nn\n",
    "import torch.nn.functional as F\n",
    "import torchvision\n",
    "from torchvision import transforms\n",
    "import matplotlib.pyplot as plt\n",
    "from tqdm import tqdm\n",
    "from small2DNet import small2DNet\n",
    "from util import add_color, colorize, colorize_gaussian, calculate_correct_loss\n",
    "from colorMNist import colorMNist\n",
    "import random\n",
    "import colorsys\n",
    "import pickle"
   ]
  },
  {
   "cell_type": "code",
   "execution_count": 2,
   "id": "7e331dc4-05bc-4325-8c93-706ba82594d8",
   "metadata": {},
   "outputs": [],
   "source": [
    "# Load data\n",
    "mnist_train = torchvision.datasets.MNIST('datasets/mnist', train=True, download=False, transform=torchvision.transforms.Compose([\n",
    "                                                    torchvision.transforms.ToTensor(),\n",
    "                                                    torchvision.transforms.Lambda(add_color),\n",
    "                                                    # torchvision.transforms.Normalize(\n",
    "                                                    #     [0.1307, 0.1307, 0.1307], [0.3081, 0.3081, 0.3081])\n",
    "                                                    ]))\n",
    "mnist_test = torchvision.datasets.MNIST('datasets/mnist', train=False, download=False, transform=torchvision.transforms.Compose([\n",
    "                                                    torchvision.transforms.ToTensor(),\n",
    "                                                    torchvision.transforms.Lambda(add_color),\n",
    "                                                    # torchvision.transforms.Normalize(\n",
    "                                                    #     [0.1307, 0.1307, 0.1307], [0.3081, 0.3081, 0.3081])\n",
    "                                                    ]))"
   ]
  },
  {
   "cell_type": "code",
   "execution_count": 19,
   "id": "c81bf3b6-613c-444c-9517-b8e44701d8f3",
   "metadata": {},
   "outputs": [],
   "source": [
    "# Color dict\n",
    "colorless_dict = {}\n",
    "deterministic_dict = {0: [[255, 0, 0]], 1: [[255, 153, 0]], 2: [[204, 255, 0]], 3: [[51, 255, 0]], 4: [[0, 255, 102]],\n",
    "              5: [[0, 255, 255]], 6: [[0, 102, 255]], 7: [[51, 0, 255]], 8: [[204, 0, 255]], 9: [[255, 0, 153]]}\n",
    "colors = [[255, 0, 0], [255, 153, 0], [204, 255, 0], [51, 255, 0], [0, 255, 102], [0, 255, 255], [0, 102, 255],\n",
    "         [51, 0, 255], [204, 0, 255], [255, 0, 153]]\n",
    "uniform_dict = {}\n",
    "for i in range(10):\n",
    "    uniform_dict[i] = colors\n",
    "gaussian_dict = {0: 0, 1: 36, 2: 72, 3: 108, 4: 144, 5: 180, 6: 216, 7: 252, 8: 288, 9: 324, 10: 0}\n",
    "\n",
    "# Choose the right dictionary for the run\n",
    "color_dict = uniform_dict"
   ]
  },
  {
   "cell_type": "code",
   "execution_count": 20,
   "id": "bb2dbe52-0466-4f7b-972e-d69d549d7477",
   "metadata": {},
   "outputs": [
    {
     "name": "stdout",
     "output_type": "stream",
     "text": [
      "4000 1000 5000 5000 10000\n"
     ]
    }
   ],
   "source": [
    "# The filtered dataset\n",
    "trimmed_dataset = torch.utils.data.Subset(mnist_train, range(5000))\n",
    "\n",
    "# Filtered test dataset\n",
    "test_dataset = torch.utils.data.Subset(mnist_test, range(len(mnist_test)))\n",
    "\n",
    "# Create the 80/20 train/val split\n",
    "train_split = int(0.8 * len(trimmed_dataset))\n",
    "# Train dataset\n",
    "train_dataset = torch.utils.data.Subset(trimmed_dataset, [i for i in range(train_split)])\n",
    "# Validation dataset\n",
    "val_dataset = torch.utils.data.Subset(trimmed_dataset, [i for i in range(train_split, len(trimmed_dataset))])\n",
    "print(len(train_dataset), len(val_dataset), len(train_dataset) + len(val_dataset), len(trimmed_dataset), len(test_dataset))"
   ]
  },
  {
   "cell_type": "code",
   "execution_count": null,
   "id": "a7330125-7346-4b56-9cd7-e7980ecaad1a",
   "metadata": {},
   "outputs": [],
   "source": [
    "image = train_dataset[0][0]\n",
    "label = train_dataset[0][1]\n",
    "image, hue = colorize_gaussian(image, label, gaussian_dict)\n",
    "print(hue)\n",
    "plt.imshow(image.permute(1, 2, 0))"
   ]
  },
  {
   "cell_type": "code",
   "execution_count": 21,
   "id": "798f5879-ad52-4b4a-bbe5-6e765e124ce5",
   "metadata": {},
   "outputs": [],
   "source": [
    "colormnist_train = []\n",
    "colormnist_val = []\n",
    "colormnist_test = []\n",
    "tfms = torchvision.transforms.Normalize([0.1307, 0.1307, 0.1307], [0.3081, 0.3081, 0.3081])\n",
    "for x in train_dataset:\n",
    "    image = x[0]\n",
    "    label = x[1]\n",
    "    \n",
    "    image, color = colorize(image, label, color_dict)\n",
    "    colormnist_train.append([image, color])\n",
    "    \n",
    "colormnist_val = []\n",
    "for x in val_dataset:\n",
    "    image = x[0]\n",
    "    label = x[1]\n",
    "    \n",
    "    image, color = colorize(image, label, color_dict)\n",
    "    colormnist_val.append([image, color])\n",
    "    \n",
    "colormnist_test = []\n",
    "for x in test_dataset:\n",
    "    image = x[0]\n",
    "    label = x[1]\n",
    "    \n",
    "    image, color = colorize(image, label, color_dict)\n",
    "    colormnist_test.append([image, color])"
   ]
  },
  {
   "cell_type": "code",
   "execution_count": 22,
   "id": "ab3cc253-8039-4c3a-84ff-a12e4a0c6ca0",
   "metadata": {},
   "outputs": [],
   "source": [
    "pickle.dump([colormnist_train, colormnist_val, colormnist_test], open(\"custom_datasets/5k/color_uniform.pkl\", \"wb\"))"
   ]
  },
  {
   "cell_type": "code",
   "execution_count": 23,
   "id": "54320a4f-786d-49f2-bbf0-73d09e03bb24",
   "metadata": {},
   "outputs": [],
   "source": [
    "cmnist_train, cmnist_val, cmnist_test = pickle.load(open(\"custom_datasets/5k/color_uniform.pkl\", \"rb\"))"
   ]
  },
  {
   "cell_type": "code",
   "execution_count": 24,
   "id": "aab083f4-f529-4a10-a2eb-999ab8787585",
   "metadata": {},
   "outputs": [],
   "source": [
    "cmnist_tr = colorMNist(cmnist_train)\n",
    "cmnist_va = colorMNist(cmnist_val)\n",
    "cmnist_te = colorMNist(cmnist_test)"
   ]
  },
  {
   "cell_type": "code",
   "execution_count": 25,
   "id": "ce49eda5-df33-446b-a353-14f9fc4d3385",
   "metadata": {},
   "outputs": [],
   "source": [
    "# Dataloaders\n",
    "train_dataloader = torch.utils.data.DataLoader(cmnist_tr, batch_size=32, shuffle=False, num_workers = 0)\n",
    "val_dataloader = torch.utils.data.DataLoader(cmnist_va, batch_size=32, shuffle=False, num_workers = 0)\n",
    "test_dataloader = torch.utils.data.DataLoader(cmnist_te, batch_size=32, shuffle=False, num_workers = 0)"
   ]
  },
  {
   "cell_type": "code",
   "execution_count": 26,
   "id": "3aaf7434-8c53-48c9-904d-f918c1b49e17",
   "metadata": {},
   "outputs": [
    {
     "name": "stderr",
     "output_type": "stream",
     "text": [
      "  0%|          | 0/313 [00:00<?, ?it/s]"
     ]
    },
    {
     "name": "stdout",
     "output_type": "stream",
     "text": [
      "tensor([4, 5, 7, 7, 3, 4, 0, 2, 0, 5, 0, 7, 1, 7, 1, 5, 3, 3, 8, 1, 1, 5, 7, 0,\n",
      "        9, 3, 4, 9, 0, 1, 4, 6])\n"
     ]
    },
    {
     "name": "stderr",
     "output_type": "stream",
     "text": [
      "Clipping input data to the valid range for imshow with RGB data ([0..1] for floats or [0..255] for integers).\n",
      "Clipping input data to the valid range for imshow with RGB data ([0..1] for floats or [0..255] for integers).\n",
      "Clipping input data to the valid range for imshow with RGB data ([0..1] for floats or [0..255] for integers).\n",
      "Clipping input data to the valid range for imshow with RGB data ([0..1] for floats or [0..255] for integers).\n",
      "Clipping input data to the valid range for imshow with RGB data ([0..1] for floats or [0..255] for integers).\n",
      "Clipping input data to the valid range for imshow with RGB data ([0..1] for floats or [0..255] for integers).\n",
      "Clipping input data to the valid range for imshow with RGB data ([0..1] for floats or [0..255] for integers).\n",
      "Clipping input data to the valid range for imshow with RGB data ([0..1] for floats or [0..255] for integers).\n",
      "Clipping input data to the valid range for imshow with RGB data ([0..1] for floats or [0..255] for integers).\n",
      "Clipping input data to the valid range for imshow with RGB data ([0..1] for floats or [0..255] for integers).\n",
      "Clipping input data to the valid range for imshow with RGB data ([0..1] for floats or [0..255] for integers).\n",
      "Clipping input data to the valid range for imshow with RGB data ([0..1] for floats or [0..255] for integers).\n",
      "Clipping input data to the valid range for imshow with RGB data ([0..1] for floats or [0..255] for integers).\n",
      "Clipping input data to the valid range for imshow with RGB data ([0..1] for floats or [0..255] for integers).\n",
      "Clipping input data to the valid range for imshow with RGB data ([0..1] for floats or [0..255] for integers).\n",
      "Clipping input data to the valid range for imshow with RGB data ([0..1] for floats or [0..255] for integers).\n",
      "Clipping input data to the valid range for imshow with RGB data ([0..1] for floats or [0..255] for integers).\n",
      "Clipping input data to the valid range for imshow with RGB data ([0..1] for floats or [0..255] for integers).\n",
      "Clipping input data to the valid range for imshow with RGB data ([0..1] for floats or [0..255] for integers).\n",
      "Clipping input data to the valid range for imshow with RGB data ([0..1] for floats or [0..255] for integers).\n",
      "Clipping input data to the valid range for imshow with RGB data ([0..1] for floats or [0..255] for integers).\n",
      "Clipping input data to the valid range for imshow with RGB data ([0..1] for floats or [0..255] for integers).\n",
      "Clipping input data to the valid range for imshow with RGB data ([0..1] for floats or [0..255] for integers).\n",
      "Clipping input data to the valid range for imshow with RGB data ([0..1] for floats or [0..255] for integers).\n",
      "Clipping input data to the valid range for imshow with RGB data ([0..1] for floats or [0..255] for integers).\n",
      "Clipping input data to the valid range for imshow with RGB data ([0..1] for floats or [0..255] for integers).\n",
      "Clipping input data to the valid range for imshow with RGB data ([0..1] for floats or [0..255] for integers).\n",
      "Clipping input data to the valid range for imshow with RGB data ([0..1] for floats or [0..255] for integers).\n",
      "Clipping input data to the valid range for imshow with RGB data ([0..1] for floats or [0..255] for integers).\n",
      "Clipping input data to the valid range for imshow with RGB data ([0..1] for floats or [0..255] for integers).\n",
      "Clipping input data to the valid range for imshow with RGB data ([0..1] for floats or [0..255] for integers).\n",
      "Clipping input data to the valid range for imshow with RGB data ([0..1] for floats or [0..255] for integers).\n",
      "  0%|          | 0/313 [00:00<?, ?it/s]\n"
     ]
    },
    {
     "data": {
      "image/png": "[encoded data removed]",
      "text/plain": [
       "<Figure size 2016x2016 with 32 Axes>"
      ]
     },
     "metadata": {},
     "output_type": "display_data"
    }
   ],
   "source": [
    "for (images, labels) in tqdm(test_dataloader):\n",
    "    print(labels)\n",
    "    # Show batch images\n",
    "    fig, axs = plt.subplots(4,8, figsize=(28, 28), facecolor='w', edgecolor='k')\n",
    "    fig.subplots_adjust(hspace = .5, wspace=.001)\n",
    "    axs = axs.ravel()\n",
    "    for i in range(len(images)):\n",
    "        new_image = images[i]\n",
    "        # new_image = tfms(new_image)\n",
    "        axs[i].imshow(new_image.permute(1, 2, 0))\n",
    "    break"
   ]
  },
  {
   "cell_type": "code",
   "execution_count": null,
   "id": "aa298fb7-5786-49ac-8a38-31fe941912bd",
   "metadata": {},
   "outputs": [],
   "source": [
    "for (images, labels) in tqdm(test_dataloader):\n",
    "    print(labels)\n",
    "    # Show batch images\n",
    "    fig, axs = plt.subplots(4,8, figsize=(28, 28), facecolor='w', edgecolor='k')\n",
    "    fig.subplots_adjust(hspace = .5, wspace=.001)\n",
    "    axs = axs.ravel()\n",
    "    # tfms = transforms.Compose(\n",
    "    #     [transforms.Grayscale(num_output_channels=1), transforms.ToTensor(),\n",
    "    #      transforms.Normalize(mean=[0.5], std=[0.5])])\n",
    "    for i in range(len(images)):\n",
    "        new_image = images[i]\n",
    "        # new_image = tfms(new_image)\n",
    "        axs[i].imshow(new_image.permute(1, 2, 0))\n",
    "    break"
   ]
  },
  {
   "cell_type": "code",
   "execution_count": null,
   "id": "47caf168-53df-43c1-b86a-04dfb6bff0f1",
   "metadata": {},
   "outputs": [],
   "source": [
    "count_dict = {}\n",
    "for i in range(10):\n",
    "    count_dict[i] = 0\n",
    "for (images, labels) in tqdm(val_dataloader):\n",
    "    for i in range(len(images)):\n",
    "        count_dict[labels[i].item()] += 1\n",
    "        # if labels[i] == 0:\n",
    "        #     new_image = images[i]\n",
    "        #     plt.imshow(new_image.permute(1, 2, 0))\n",
    "        #     plt.show()\n",
    "        \n",
    "print(count_dict)"
   ]
  },
  {
   "cell_type": "code",
   "execution_count": null,
   "id": "e9185890-1d9a-4e63-98dc-fdf8041bd3bd",
   "metadata": {},
   "outputs": [],
   "source": [
    "cmnist_train, cmnist_val, cmnist_test = pickle.load(open(\"Old/old_custom_datasets/5k/color_uniform.pkl\", \"rb\"))\n",
    "cmnist_tr = colorMNist(cmnist_train)\n",
    "cmnist_va = colorMNist(cmnist_val)\n",
    "cmnist_te = colorMNist(cmnist_test)\n",
    "train_dataloader = torch.utils.data.DataLoader(cmnist_tr, batch_size=32, shuffle=False, num_workers = 0)\n",
    "val_dataloader = torch.utils.data.DataLoader(cmnist_va, batch_size=32, shuffle=False, num_workers = 0)\n",
    "test_dataloader = torch.utils.data.DataLoader(cmnist_te, batch_size=32, shuffle=False, num_workers = 0)\n",
    "count_dict = {}\n",
    "for i in range(10):\n",
    "    count_dict[i] = 0\n",
    "for (images, labels) in tqdm(train_dataloader):\n",
    "    for i in range(len(images)):\n",
    "        # count_dict[labels[i].item()] += 1\n",
    "        if labels[i] == 5:\n",
    "            new_image = images[i]\n",
    "            # tfms = torchvision.transforms.Normalize([0.1307, 0.1307, 0.1307], [0.3081, 0.3081, 0.3081])\n",
    "            # new_image = tfms(new_image)\n",
    "            plt.imshow(new_image.permute(1, 2, 0))\n",
    "            plt.show()\n",
    "        \n",
    "print(count_dict)"
   ]
  },
  {
   "cell_type": "code",
   "execution_count": null,
   "id": "91e1d5ad-507e-4c14-bef5-ae0452f3887d",
   "metadata": {},
   "outputs": [],
   "source": []
  }
 ],
 "metadata": {
  "kernelspec": {
   "display_name": "Python 3 (ipykernel)",
   "language": "python",
   "name": "python3"
  },
  "language_info": {
   "codemirror_mode": {
    "name": "ipython",
    "version": 3
   },
   "file_extension": ".py",
   "mimetype": "text/x-python",
   "name": "python",
   "nbconvert_exporter": "python",
   "pygments_lexer": "ipython3",
   "version": "3.8.12"
  }
 },
 "nbformat": 4,
 "nbformat_minor": 5
}

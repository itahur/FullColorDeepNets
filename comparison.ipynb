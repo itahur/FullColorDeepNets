{
 "cells": [
  {
   "cell_type": "code",
   "execution_count": 2,
   "id": "8d747a48-354f-4026-816b-a63d2539dacc",
   "metadata": {},
   "outputs": [],
   "source": [
    "import numpy as np\n",
    "from small2DNet import small2DNet\n",
    "from small3DNet import small3DNet\n",
    "from twoChannel3DNet import twoChannel3DNet\n",
    "from separateChannel3DNet import separateChannel3DNet\n",
    "from vggm2DNet import vggm2DNet\n",
    "from vggm3DNet import vggm3DNet\n",
    "import torch\n",
    "from torchinfo import summary"
   ]
  },
  {
   "cell_type": "code",
   "execution_count": 4,
   "id": "4b59948a-28e4-4e4b-9a33-57b5088b542e",
   "metadata": {},
   "outputs": [],
   "source": [
    "img_size = 32"
   ]
  },
  {
   "cell_type": "code",
   "execution_count": 11,
   "id": "d71f56f4-4115-496a-8734-d6c5721c43b0",
   "metadata": {},
   "outputs": [
    {
     "data": {
      "text/plain": [
       "==========================================================================================\n",
       "Layer (type:depth-idx)                   Output Shape              Param #\n",
       "==========================================================================================\n",
       "vggm2DNet                                --                        --\n",
       "├─Sequential: 1-1                        [32, 512, 6, 6]           --\n",
       "│    └─Conv2d: 2-1                       [32, 96, 109, 109]        14,208\n",
       "│    └─ReLU: 2-2                         [32, 96, 109, 109]        --\n",
       "│    └─MaxPool2d: 2-3                    [32, 96, 54, 54]          --\n",
       "│    └─Conv2d: 2-4                       [32, 256, 26, 26]         614,656\n",
       "│    └─ReLU: 2-5                         [32, 256, 26, 26]         --\n",
       "│    └─MaxPool2d: 2-6                    [32, 256, 13, 13]         --\n",
       "│    └─Conv2d: 2-7                       [32, 512, 13, 13]         1,180,160\n",
       "│    └─Conv2d: 2-8                       [32, 512, 13, 13]         2,359,808\n",
       "│    └─Conv2d: 2-9                       [32, 512, 13, 13]         2,359,808\n",
       "│    └─MaxPool2d: 2-10                   [32, 512, 6, 6]           --\n",
       "├─AdaptiveAvgPool2d: 1-2                 [32, 512, 1, 1]           --\n",
       "├─Sequential: 1-3                        [32, 8]                   --\n",
       "│    └─Linear: 2-11                      [32, 4096]                2,101,248\n",
       "│    └─Linear: 2-12                      [32, 4096]                16,781,312\n",
       "│    └─Linear: 2-13                      [32, 8]                   32,776\n",
       "==========================================================================================\n",
       "Total params: 25,443,976\n",
       "Trainable params: 25,443,976\n",
       "Non-trainable params: 0\n",
       "Total mult-adds (G): 51.21\n",
       "==========================================================================================\n",
       "Input size (MB): 19.27\n",
       "Forward/backward pass size (MB): 404.84\n",
       "Params size (MB): 101.78\n",
       "Estimated Total Size (MB): 525.89\n",
       "=========================================================================================="
      ]
     },
     "execution_count": 11,
     "metadata": {},
     "output_type": "execute_result"
    }
   ],
   "source": [
    "model_layers = [96, 256, 512, 512, 512]\n",
    "model = vggm2DNet(model_layers)\n",
    "summary(model, input_size=(32, 3, img_size, img_size))"
   ]
  },
  {
   "cell_type": "code",
   "execution_count": 13,
   "id": "b529ac23-a353-4bab-92e0-9def7d268ddb",
   "metadata": {},
   "outputs": [
    {
     "data": {
      "text/plain": [
       "==========================================================================================\n",
       "Layer (type:depth-idx)                   Output Shape              Param #\n",
       "==========================================================================================\n",
       "vggm3DNet                                --                        --\n",
       "├─Sequential: 1-1                        [32, 296, 3, 6, 6]        --\n",
       "│    └─Conv3d: 2-1                       [32, 55, 3, 109, 109]     8,140\n",
       "│    └─ReLU: 2-2                         [32, 55, 3, 109, 109]     --\n",
       "│    └─MaxPool3d: 2-3                    [32, 55, 3, 54, 54]       --\n",
       "│    └─Conv3d: 2-4                       [32, 148, 3, 26, 26]      610,648\n",
       "│    └─ReLU: 2-5                         [32, 148, 3, 26, 26]      --\n",
       "│    └─MaxPool3d: 2-6                    [32, 148, 3, 13, 13]      --\n",
       "│    └─Conv3d: 2-7                       [32, 296, 3, 13, 13]      1,183,112\n",
       "│    └─Conv3d: 2-8                       [32, 296, 3, 13, 13]      2,365,928\n",
       "│    └─Conv3d: 2-9                       [32, 296, 3, 13, 13]      2,365,928\n",
       "│    └─MaxPool3d: 2-10                   [32, 296, 3, 6, 6]        --\n",
       "├─AdaptiveAvgPool3d: 1-2                 [32, 296, 3, 1, 1]        --\n",
       "├─Sequential: 1-3                        [32, 8]                   --\n",
       "│    └─Linear: 2-11                      [32, 4096]                3,641,344\n",
       "│    └─Linear: 2-12                      [32, 4096]                16,781,312\n",
       "│    └─Linear: 2-13                      [32, 8]                   32,776\n",
       "==========================================================================================\n",
       "Total params: 26,989,188\n",
       "Trainable params: 26,989,188\n",
       "Non-trainable params: 0\n",
       "Total mult-adds (G): 145.53\n",
       "==========================================================================================\n",
       "Input size (MB): 19.27\n",
       "Forward/backward pass size (MB): 696.04\n",
       "Params size (MB): 107.96\n",
       "Estimated Total Size (MB): 823.27\n",
       "=========================================================================================="
      ]
     },
     "execution_count": 13,
     "metadata": {},
     "output_type": "execute_result"
    }
   ],
   "source": [
    "model_layers = [55, 148, 296, 296, 296]\n",
    "model = vggm3DNet(model_layers)\n",
    "summary(model, input_size=(32, 1, 3, img_size, img_size))"
   ]
  },
  {
   "cell_type": "code",
   "execution_count": 8,
   "id": "b7ce2566-85b4-4712-a2c8-8854daabf1f1",
   "metadata": {},
   "outputs": [
    {
     "data": {
      "text/plain": [
       "==========================================================================================\n",
       "Layer (type:depth-idx)                   Output Shape              Param #\n",
       "==========================================================================================\n",
       "small2DNet                               --                        --\n",
       "├─Sequential: 1-1                        [32, 333, 4, 4]           --\n",
       "│    └─Conv2d: 2-1                       [32, 84, 32, 32]          2,352\n",
       "│    └─ReLU: 2-2                         [32, 84, 32, 32]          --\n",
       "│    └─MaxPool2d: 2-3                    [32, 84, 16, 16]          --\n",
       "│    └─Conv2d: 2-4                       [32, 165, 16, 16]         124,905\n",
       "│    └─ReLU: 2-5                         [32, 165, 16, 16]         --\n",
       "│    └─MaxPool2d: 2-6                    [32, 165, 8, 8]           --\n",
       "│    └─Conv2d: 2-7                       [32, 333, 8, 8]           494,838\n",
       "│    └─ReLU: 2-8                         [32, 333, 8, 8]           --\n",
       "│    └─MaxPool2d: 2-9                    [32, 333, 4, 4]           --\n",
       "├─AdaptiveAvgPool2d: 1-2                 [32, 333, 1, 1]           --\n",
       "├─Sequential: 1-3                        [32, 10]                  --\n",
       "│    └─Linear: 2-10                      [32, 10]                  3,340\n",
       "==========================================================================================\n",
       "Total params: 625,435\n",
       "Trainable params: 625,435\n",
       "Non-trainable params: 0\n",
       "Total mult-adds (G): 2.11\n",
       "==========================================================================================\n",
       "Input size (MB): 0.39\n",
       "Forward/backward pass size (MB): 38.29\n",
       "Params size (MB): 2.50\n",
       "Estimated Total Size (MB): 41.19\n",
       "=========================================================================================="
      ]
     },
     "execution_count": 8,
     "metadata": {},
     "output_type": "execute_result"
    }
   ],
   "source": [
    "model_layers = [84, \"M\", 165, \"M\", 333, \"M\"]\n",
    "features = [1, 1]\n",
    "model = small2DNet(model_layers, model_layers[-2], features)\n",
    "summary(model, input_size=(32, 3, img_size, img_size))"
   ]
  },
  {
   "cell_type": "code",
   "execution_count": 7,
   "id": "11d10da7-e589-4596-991f-48cd50dcabc2",
   "metadata": {},
   "outputs": [
    {
     "data": {
      "text/plain": [
       "==========================================================================================\n",
       "Layer (type:depth-idx)                   Output Shape              Param #\n",
       "==========================================================================================\n",
       "small3DNet                               --                        --\n",
       "├─Sequential: 1-1                        [32, 128, 3, 4, 4]        --\n",
       "│    └─Conv3d: 2-1                       [32, 32, 3, 32, 32]       896\n",
       "│    └─ReLU: 2-2                         [32, 32, 3, 32, 32]       --\n",
       "│    └─MaxPool3d: 2-3                    [32, 32, 3, 16, 16]       --\n",
       "│    └─Conv3d: 2-4                       [32, 64, 3, 16, 16]       55,360\n",
       "│    └─ReLU: 2-5                         [32, 64, 3, 16, 16]       --\n",
       "│    └─MaxPool3d: 2-6                    [32, 64, 3, 8, 8]         --\n",
       "│    └─Conv3d: 2-7                       [32, 128, 3, 8, 8]        221,312\n",
       "│    └─ReLU: 2-8                         [32, 128, 3, 8, 8]        --\n",
       "│    └─MaxPool3d: 2-9                    [32, 128, 3, 4, 4]        --\n",
       "├─AdaptiveAvgPool3d: 1-2                 [32, 128, 3, 1, 1]        --\n",
       "├─Sequential: 1-3                        [32, 10]                  --\n",
       "│    └─Linear: 2-10                      [32, 10]                  3,850\n",
       "==========================================================================================\n",
       "Total params: 281,418\n",
       "Trainable params: 281,418\n",
       "Non-trainable params: 0\n",
       "Total mult-adds (G): 2.81\n",
       "==========================================================================================\n",
       "Input size (MB): 0.39\n",
       "Forward/backward pass size (MB): 44.04\n",
       "Params size (MB): 1.13\n",
       "Estimated Total Size (MB): 45.56\n",
       "=========================================================================================="
      ]
     },
     "execution_count": 7,
     "metadata": {},
     "output_type": "execute_result"
    }
   ],
   "source": [
    "model_layers = [32, \"M\", 64, \"M\", 128, \"M\"]\n",
    "features = [3, 1, 1]\n",
    "model = small3DNet(model_layers, model_layers[-2], features)\n",
    "summary(model, input_size=(32, 1, 3, img_size, img_size))"
   ]
  },
  {
   "cell_type": "code",
   "execution_count": 7,
   "id": "447f4ad1-c2a5-4d8b-887e-e268d4089307",
   "metadata": {},
   "outputs": [
    {
     "data": {
      "text/plain": [
       "==========================================================================================\n",
       "Layer (type:depth-idx)                   Output Shape              Param #\n",
       "==========================================================================================\n",
       "twoChannel3DNet                          --                        --\n",
       "├─Sequential: 1-1                        [32, 64, 3, 3, 3]         --\n",
       "│    └─Conv3d: 2-1                       [32, 16, 3, 28, 28]       304\n",
       "│    └─ReLU: 2-2                         [32, 16, 3, 28, 28]       --\n",
       "│    └─MaxPool3d: 2-3                    [32, 16, 3, 14, 14]       --\n",
       "│    └─Conv3d: 2-4                       [32, 48, 3, 14, 14]       6,960\n",
       "│    └─ReLU: 2-5                         [32, 48, 3, 14, 14]       --\n",
       "│    └─MaxPool3d: 2-6                    [32, 48, 3, 7, 7]         --\n",
       "│    └─Conv3d: 2-7                       [32, 64, 3, 7, 7]         27,712\n",
       "│    └─ReLU: 2-8                         [32, 64, 3, 7, 7]         --\n",
       "│    └─MaxPool3d: 2-9                    [32, 64, 3, 3, 3]         --\n",
       "├─AdaptiveAvgPool3d: 1-2                 [32, 64, 3, 1, 1]         --\n",
       "├─Sequential: 1-3                        [32, 10]                  --\n",
       "│    └─Linear: 2-10                      [32, 10]                  1,930\n",
       "==========================================================================================\n",
       "Total params: 36,906\n",
       "Trainable params: 36,906\n",
       "Non-trainable params: 0\n",
       "Total mult-adds (M): 284.26\n",
       "==========================================================================================\n",
       "Input size (MB): 0.30\n",
       "Forward/backward pass size (MB): 19.27\n",
       "Params size (MB): 0.15\n",
       "Estimated Total Size (MB): 19.72\n",
       "=========================================================================================="
      ]
     },
     "execution_count": 7,
     "metadata": {},
     "output_type": "execute_result"
    }
   ],
   "source": [
    "model_layers = [16, \"M\", 48, \"M\", 64, \"M\"]\n",
    "features = [3, 1, 1]\n",
    "model = twoChannel3DNet(model_layers, model_layers[-2], features)\n",
    "summary(model, input_size=(32, 1, 3, img_size, img_size))"
   ]
  },
  {
   "cell_type": "code",
   "execution_count": 8,
   "id": "5cc03b30-f717-4bed-bf6a-c848151ef641",
   "metadata": {},
   "outputs": [
    {
     "data": {
      "text/plain": [
       "==========================================================================================\n",
       "Layer (type:depth-idx)                   Output Shape              Param #\n",
       "==========================================================================================\n",
       "separateChannel3DNet                     --                        --\n",
       "├─Sequential: 1-1                        [32, 64, 3, 3, 3]         --\n",
       "│    └─Conv3d: 2-1                       [32, 16, 3, 28, 28]       160\n",
       "│    └─ReLU: 2-2                         [32, 16, 3, 28, 28]       --\n",
       "│    └─MaxPool3d: 2-3                    [32, 16, 3, 14, 14]       --\n",
       "│    └─Conv3d: 2-4                       [32, 48, 3, 14, 14]       6,960\n",
       "│    └─ReLU: 2-5                         [32, 48, 3, 14, 14]       --\n",
       "│    └─MaxPool3d: 2-6                    [32, 48, 3, 7, 7]         --\n",
       "│    └─Conv3d: 2-7                       [32, 64, 3, 7, 7]         27,712\n",
       "│    └─ReLU: 2-8                         [32, 64, 3, 7, 7]         --\n",
       "│    └─MaxPool3d: 2-9                    [32, 64, 3, 3, 3]         --\n",
       "├─AdaptiveAvgPool3d: 1-2                 [32, 64, 3, 1, 1]         --\n",
       "├─Sequential: 1-3                        [32, 10]                  --\n",
       "│    └─Linear: 2-10                      [32, 10]                  1,930\n",
       "==========================================================================================\n",
       "Total params: 36,762\n",
       "Trainable params: 36,762\n",
       "Non-trainable params: 0\n",
       "Total mult-adds (M): 273.42\n",
       "==========================================================================================\n",
       "Input size (MB): 0.30\n",
       "Forward/backward pass size (MB): 19.27\n",
       "Params size (MB): 0.15\n",
       "Estimated Total Size (MB): 19.72\n",
       "=========================================================================================="
      ]
     },
     "execution_count": 8,
     "metadata": {},
     "output_type": "execute_result"
    }
   ],
   "source": [
    "model_layers = [16, \"M\", 48, \"M\", 64, \"M\"]\n",
    "features = [3, 1, 1]\n",
    "model = separateChannel3DNet(model_layers, model_layers[-2], features)\n",
    "summary(model, input_size=(32, 1, 3, img_size, img_size))"
   ]
  },
  {
   "cell_type": "code",
   "execution_count": null,
   "id": "9392b057-80a9-4cf5-9062-904462d7da65",
   "metadata": {},
   "outputs": [],
   "source": []
  }
 ],
 "metadata": {
  "kernelspec": {
   "display_name": "Python 3 (ipykernel)",
   "language": "python",
   "name": "python3"
  },
  "language_info": {
   "codemirror_mode": {
    "name": "ipython",
    "version": 3
   },
   "file_extension": ".py",
   "mimetype": "text/x-python",
   "name": "python",
   "nbconvert_exporter": "python",
   "pygments_lexer": "ipython3",
   "version": "3.8.12"
  }
 },
 "nbformat": 4,
 "nbformat_minor": 5
}

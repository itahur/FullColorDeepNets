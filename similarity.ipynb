{
 "cells": [
  {
   "cell_type": "code",
   "execution_count": 24,
   "id": "f9d50ee2-ba3c-4b10-b86a-e4d6d99cc6ca",
   "metadata": {},
   "outputs": [],
   "source": [
    "import numpy as np\n",
    "import time\n",
    "import torch\n",
    "import torch.nn as nn\n",
    "import torch.nn.functional as F\n",
    "import torchvision\n",
    "import matplotlib.pyplot as plt\n",
    "from tqdm import tqdm\n",
    "from small2DNet import small2DNet\n",
    "from small3DNet import small3DNet\n",
    "from util import add_color, colorize, colorize_gaussian, calculate_correct_loss\n",
    "from colorMNist import colorMNist\n",
    "import random\n",
    "import colorsys\n",
    "import pickle\n",
    "from sklearn.metrics.pairwise import cosine_similarity, euclidean_distances"
   ]
  },
  {
   "cell_type": "code",
   "execution_count": 2,
   "id": "9ae1e8c2-6ea5-4026-95ba-b14c3ec078c6",
   "metadata": {},
   "outputs": [],
   "source": [
    "def cs(x, y):\n",
    "    z = torch.sum(torch.mul(x, y)).item() / (np.sqrt(torch.sum(torch.square(x)).item()) * np.sqrt(torch.sum(torch.square(y)).item()))\n",
    "    return z\n",
    "def ed(x, y):\n",
    "    z = np.sqrt(torch.sum(torch.square(torch.torch.sub(x, y))).item())\n",
    "    return z"
   ]
  },
  {
   "cell_type": "code",
   "execution_count": 12,
   "id": "f1fb515c-e502-4fdd-8633-3a262c66f12b",
   "metadata": {},
   "outputs": [
    {
     "name": "stdout",
     "output_type": "stream",
     "text": [
      "0.4042112754503246 -0.01405491525256262 0.2655584153692246\n",
      "0.7963316201942805 0.7061117372671798 0.8016470731212859\n",
      "0.7189544314774989 0.09466627669464943 0.032478127683876694\n",
      "-0.07088823317925103 0.13510858056582936 0.3351765047110641\n",
      "0.34624104763774755 -0.18710270900223067 -0.2768761534167951\n",
      "-0.2156390594508796 -0.1677460477615484 -0.12260641513290302\n",
      "-0.21788042927847193 0.9388103122971455 -0.4376612000012891\n",
      "-0.11693447147434596 0.3304379558502203 0.49169739248188554\n"
     ]
    }
   ],
   "source": [
    "# Uniform\n",
    "# Layers of the model\n",
    "model_layers = [8, 8, \"M\", 16,\"M\"]\n",
    "# Create model\n",
    "model = small2DNet(model_layers, 16)\n",
    "# Load model\n",
    "model.load_state_dict(torch.load('model_saves/2D/Uniform/Uniform2D.pth'))\n",
    "# Put model on gpu\n",
    "model.cuda()\n",
    "\n",
    "children = [x for x in model.children()]\n",
    "\n",
    "# print(children[0][0].weight)\n",
    "uniform = []\n",
    "uniformcs = []\n",
    "for x in children[0][0].weight:\n",
    "    uniform.append((ed(x[0], x[1]) + ed(x[0], x[2]) + ed(x[1], x[2])) / 3)\n",
    "    uniformcs.append((cs(x[0], x[1]) + cs(x[0], x[2]) + cs(x[1], x[2])) / 3)\n",
    "    # print(ed(x[0], x[1]), ed(x[0], x[2]), ed(x[1], x[2]))\n",
    "    print(cs(x[0], x[1]), cs(x[0], x[2]), cs(x[1], x[2]))\n",
    "    # break"
   ]
  },
  {
   "cell_type": "code",
   "execution_count": 6,
   "id": "a5de41b9-1c29-405c-baeb-e826c6a056e1",
   "metadata": {},
   "outputs": [],
   "source": [
    "# Uniform\n",
    "# Layers of the model\n",
    "model_layers = [8, 8, \"M\", 16,\"M\"]\n",
    "# Create model\n",
    "model = small2DNet(model_layers, 16)\n",
    "# Load model\n",
    "model.load_state_dict(torch.load('model_saves/2D/Uniform/Uniform2D.pth'))\n",
    "# Put model on gpu\n",
    "model.cuda()\n",
    "\n",
    "children = [x for x in model.children()]\n",
    "\n",
    "uniformflatten = []\n",
    "for x in children[0][0].weight:\n",
    "    # print(cosine_similarity(x[0].cpu().detach().numpy().flatten(), x[1].cpu().detach().numpy().flatten()))\n",
    "    x0 = x[0].cpu().detach().numpy().flatten().reshape(1, -1)\n",
    "    x1 = x[1].cpu().detach().numpy().flatten().reshape(1, -1)\n",
    "    x2 = x[2].cpu().detach().numpy().flatten().reshape(1, -1)\n",
    "    uniformflatten.append((cosine_similarity(x0, x1)[0][0] + cosine_similarity(x0, x2)[0][0] + cosine_similarity(x1, x2)[0][0]) / 3)\n",
    "    # print(cosine_similarity(x0, x1)[0][0])"
   ]
  },
  {
   "cell_type": "code",
   "execution_count": 22,
   "id": "9bcd6bf3-8952-4ac4-8a8b-f1b873677abd",
   "metadata": {},
   "outputs": [
    {
     "name": "stdout",
     "output_type": "stream",
     "text": [
      "0.4221 \t 0.1435 0.0103\n",
      "0.2123 \t 0.6026 0.3906\n",
      "0.6792 \t 0.7761 0.8766\n",
      "0.1557 \t 0.1491 -0.2244\n",
      "0.4167 \t 0.768 0.3063\n",
      "0.5206 \t 0.1395 0.1881\n",
      "0.7531 \t -0.0255 0.1464\n",
      "0.5002 \t 0.8842 0.3195\n"
     ]
    }
   ],
   "source": [
    "# Colorless\n",
    "# Layers of the model\n",
    "model_layers = [8, 8, \"M\", 16,\"M\"]\n",
    "# Create model\n",
    "model = small2DNet(model_layers, 16)\n",
    "# Load model\n",
    "model.load_state_dict(torch.load('model_saves/2D/Colorless/Colorless2D.pth'))\n",
    "# Put model on gpu\n",
    "model.cuda()\n",
    "children = [x for x in model.children()]\n",
    "\n",
    "colorless = []\n",
    "colorlesscs = []\n",
    "for x in children[0][0].weight:\n",
    "    colorless.append((ed(x[0], x[1]) + ed(x[0], x[2]) + ed(x[1], x[2])) / 3)\n",
    "    colorlesscs.append((cs(x[0], x[1]) + cs(x[0], x[2]) + cs(x[1], x[2])) / 3)\n",
    "    print(np.round(cs(x[0], x[1]), 4), \"\\t\", np.round(cs(x[0], x[2]), 4), np.round(cs(x[1], x[2]), 4))\n",
    "    # break"
   ]
  },
  {
   "cell_type": "code",
   "execution_count": 21,
   "id": "5f9955f4-44b4-4a67-b6bd-1a7f7e6b031f",
   "metadata": {},
   "outputs": [
    {
     "name": "stdout",
     "output_type": "stream",
     "text": [
      "[0.4589 0.4343 0.5347 0.4912 0.5612 0.5743 0.5429 0.4009]\n",
      "[0.4138 0.4176 0.4152 0.4429 0.5007 0.4138 0.3645 0.373 ]\n",
      "[0.2185715918556622, 0.7680301435275821, 0.2820329452853417, 0.13313228403254748, -0.03924593826042608, -0.168663840781777, 0.09442289433912815, 0.23506695895258664]\n",
      "[0.1919860248267549, 0.40185692560993996, 0.7772901538835884, 0.026808929628459766, 0.4970272222020761, 0.2827624008588103, 0.291300556007501, 0.5679762976219732]\n",
      "-0.6569137521952385\n",
      "-1.5136614716884584\n"
     ]
    }
   ],
   "source": [
    "print(np.round(uniform, 4))\n",
    "print(np.round(colorless, 4))\n",
    "print(uniformcs)\n",
    "print(colorlesscs)\n",
    "print(np.sum([colorless[i] - uniform[i] for i in range(len(uniform))]))\n",
    "print(np.sum([uniformcs[i] - colorlesscs[i] for i in range(len(uniformcs))]))\n",
    "# print(np.sum([uniformflatten[i] - colorlessflatten[i] for i in range(len(uniformflatten))]))"
   ]
  },
  {
   "cell_type": "code",
   "execution_count": 29,
   "id": "327f4ac0-549a-4b72-aeaa-1091872de4e4",
   "metadata": {},
   "outputs": [
    {
     "name": "stdout",
     "output_type": "stream",
     "text": [
      "0.4066 0.324 0.3125\n",
      "0.5022 0.6289 0.5233\n",
      "0.4117 0.9264 0.9342\n",
      "0.3989 0.4879 0.2756\n",
      "0.4068 0.5828 0.7248\n",
      "0.4124 0.5264 0.5036\n",
      "0.4896 0.7381 0.4921\n",
      "0.5267 0.3467 0.4544\n"
     ]
    }
   ],
   "source": [
    "# Uniform\n",
    "# Layers of the model\n",
    "model_layers = [8, 8, \"M\", 16,\"M\"]\n",
    "# Create model\n",
    "model = small3DNet(model_layers, 16)\n",
    "# Load model\n",
    "model.load_state_dict(torch.load('model_saves/3D/Uniform/Uniform3D.pth'))\n",
    "# Put model on gpu\n",
    "model.cuda()\n",
    "\n",
    "children = [x for x in model.children()]\n",
    "\n",
    "uniformcs = []\n",
    "uniformed = []\n",
    "for x in children[0][0].weight:\n",
    "    x0 = x[0][0].cpu().detach().numpy().flatten().reshape(1, -1)\n",
    "    x1 = x[0][1].cpu().detach().numpy().flatten().reshape(1, -1)\n",
    "    x2 = x[0][2].cpu().detach().numpy().flatten().reshape(1, -1)\n",
    "    uniformcs.append((cosine_similarity(x0, x1)[0][0] + cosine_similarity(x0, x2)[0][0] + cosine_similarity(x1, x2)[0][0]) / 3)\n",
    "    uniformed.append((euclidean_distances(x0, x1)[0][0] + euclidean_distances(x0, x2)[0][0] + euclidean_distances(x1, x2)[0][0]) / 3)\n",
    "    \n",
    "    print(np.round(euclidean_distances(x0, x1)[0][0], 4), np.round(euclidean_distances(x1, x2)[0][0], 4), np.round(euclidean_distances(x0, x2)[0][0], 4))"
   ]
  },
  {
   "cell_type": "code",
   "execution_count": 31,
   "id": "3c832161-166a-42b5-b03f-f7f5a3356842",
   "metadata": {},
   "outputs": [
    {
     "name": "stdout",
     "output_type": "stream",
     "text": [
      "0.4179 0.4017 0.4815\n",
      "0.4668 0.4323 0.5909\n",
      "0.5324 0.3695 0.4458\n",
      "0.4619 0.4779 0.5326\n",
      "0.5259 0.5058 0.4969\n",
      "0.3496 0.541 0.5672\n",
      "0.5021 0.4527 0.3046\n",
      "0.4597 0.3234 0.4864\n"
     ]
    }
   ],
   "source": [
    "# Colorless\n",
    "# Layers of the model\n",
    "model_layers = [8, 8, \"M\", 16,\"M\"]\n",
    "# Create model\n",
    "model = small3DNet(model_layers, 16)\n",
    "# Load model\n",
    "model.load_state_dict(torch.load('model_saves/3D/Colorless/Colorless3D.pth'))\n",
    "# Put model on gpu\n",
    "model.cuda()\n",
    "\n",
    "children = [x for x in model.children()]\n",
    "\n",
    "colorlesscs = []\n",
    "colorlessed = []\n",
    "for x in children[0][0].weight:\n",
    "    x0 = x[0][0].cpu().detach().numpy().flatten().reshape(1, -1)\n",
    "    x1 = x[0][1].cpu().detach().numpy().flatten().reshape(1, -1)\n",
    "    x2 = x[0][2].cpu().detach().numpy().flatten().reshape(1, -1)\n",
    "    colorlesscs.append((cosine_similarity(x0, x1)[0][0] + cosine_similarity(x0, x2)[0][0] + cosine_similarity(x1, x2)[0][0]) / 3)\n",
    "    colorlessed.append((euclidean_distances(x0, x1)[0][0] + euclidean_distances(x0, x2)[0][0] + euclidean_distances(x1, x2)[0][0]) / 3)\n",
    "    \n",
    "    print(np.round(euclidean_distances(x0, x1)[0][0], 4), np.round(euclidean_distances(x1, x2)[0][0], 4), np.round(euclidean_distances(x0, x2)[0][0], 4))"
   ]
  },
  {
   "cell_type": "code",
   "execution_count": 30,
   "id": "4171bacc-e8c9-48eb-a4a0-39754547d4c2",
   "metadata": {},
   "outputs": [
    {
     "name": "stdout",
     "output_type": "stream",
     "text": [
      "[ 0.6552 -0.2351 -0.1178  0.2014  0.0284  0.1572  0.0812  0.3202]\n",
      "[ 0.2504  0.0421  0.582   0.3846  0.2767 -0.0506  0.2448  0.4763]\n",
      "[0.3477 0.5515 0.7574 0.3875 0.5715 0.4808 0.5733 0.4426]\n",
      "[0.4337 0.4967 0.4492 0.4908 0.5095 0.4859 0.4198 0.4232]\n",
      "-0.40333628654479975\n",
      "-1.1156923174858093\n"
     ]
    }
   ],
   "source": [
    "print(np.round(uniformcs, 4))\n",
    "print(np.round(colorlesscs, 4))\n",
    "print(np.round(uniformed, 4))\n",
    "print(np.round(colorlessed, 4))\n",
    "print(np.sum([colorlessed[i] - uniformed[i] for i in range(len(uniformed))]))\n",
    "print(np.sum([uniformcs[i] - colorlesscs[i] for i in range(len(uniformcs))]))"
   ]
  }
 ],
 "metadata": {
  "kernelspec": {
   "display_name": "Python 3 (ipykernel)",
   "language": "python",
   "name": "python3"
  },
  "language_info": {
   "codemirror_mode": {
    "name": "ipython",
    "version": 3
   },
   "file_extension": ".py",
   "mimetype": "text/x-python",
   "name": "python",
   "nbconvert_exporter": "python",
   "pygments_lexer": "ipython3",
   "version": "3.8.12"
  }
 },
 "nbformat": 4,
 "nbformat_minor": 5
}

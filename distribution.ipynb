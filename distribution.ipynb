{
 "cells": [
  {
   "cell_type": "code",
   "execution_count": 1,
   "id": "e6224087-5348-4d89-8ad1-bab6d9eed169",
   "metadata": {},
   "outputs": [],
   "source": [
    "import numpy as np\n",
    "import matplotlib.pyplot as plt\n",
    "from scipy.stats import norm\n",
    "import matplotlib.pyplot as plt\n",
    "from sklearn import metrics"
   ]
  },
  {
   "cell_type": "code",
   "execution_count": 51,
   "id": "7ff6aca2-aea4-4b32-9c73-1ff5f42ae4b6",
   "metadata": {},
   "outputs": [
    {
     "name": "stdout",
     "output_type": "stream",
     "text": [
      "8681 8704 8644\n"
     ]
    }
   ],
   "source": [
    "count1 = 0\n",
    "for i in range(10000):\n",
    "    value = np.random.normal(0, 12, 1)[0]\n",
    "    bound = 18\n",
    "    if value < bound and value > -bound:\n",
    "        count1 += 1\n",
    "\n",
    "count2 = 0\n",
    "for i in range(10000):\n",
    "    bound = 90\n",
    "    value = np.random.normal(0, 60, 1)[0]\n",
    "    if value < bound and value > -bound:\n",
    "        count2 += 1\n",
    "\n",
    "count3 = 0\n",
    "for i in range(10000):\n",
    "    bound = 180\n",
    "    value = np.random.normal(0, 120, 1)[0]\n",
    "    if value < bound and value > -bound:\n",
    "        count3 += 1\n",
    "        \n",
    "print(count1, count2, count3)"
   ]
  },
  {
   "cell_type": "code",
   "execution_count": 40,
   "id": "12235091-fdd4-4426-877d-ca382be62ea6",
   "metadata": {},
   "outputs": [
    {
     "data": {
      "text/plain": [
       "Text(0.5, 0, 'hue')"
      ]
     },
     "execution_count": 40,
     "metadata": {},
     "output_type": "execute_result"
    },
    {
     "data": {
      "image/png": "[encoded data removed]",
      "text/plain": [
       "<Figure size 432x288 with 1 Axes>"
      ]
     },
     "metadata": {
      "needs_background": "light"
     },
     "output_type": "display_data"
    }
   ],
   "source": [
    "x = np.arange(-200,201,0.1)\n",
    "G1 = norm.pdf(x, 0, 72)\n",
    "G2 = norm.pdf(x, 36, 6)\n",
    "\n",
    "plt.plot(x, G1)\n",
    "plt.plot(x, G2)\n",
    "plt.xlabel(\"hue\")"
   ]
  },
  {
   "cell_type": "code",
   "execution_count": 5,
   "id": "63ceede8-3478-4195-9f3d-50e153084df4",
   "metadata": {},
   "outputs": [
    {
     "data": {
      "image/png": "[encoded data removed]",
      "text/plain": [
       "<Figure size 432x288 with 1 Axes>"
      ]
     },
     "metadata": {
      "needs_background": "light"
     },
     "output_type": "display_data"
    }
   ],
   "source": [
    "# Do everything above in a loop for sigma (note I increased the range of x here so I could try sigmas up to 50)\n",
    "x = np.arange(-200,201,0.1)\n",
    "n_x = x.size\n",
    "mu1 = 0\n",
    "mu2 = 36\n",
    "\n",
    "all_sigmas = np.arange(6,78,6)\n",
    "AUC = np.zeros(all_sigmas.size)\n",
    "for m in range(all_sigmas.size):\n",
    "    sigma = all_sigmas[m]\n",
    "    G1 = norm.pdf(x, mu1, sigma)\n",
    "    G2 = norm.pdf(x, mu2, sigma)\n",
    "\n",
    "    factor = 10000\n",
    "    G1 = np.round(G1*factor).astype(int)\n",
    "    G2 = np.round(G2*factor).astype(int)\n",
    "\n",
    "    # get samples\n",
    "    s1 = []\n",
    "    for i in range(n_x):\n",
    "        if G1[i] != 0:\n",
    "            s1 += G1[i] * [np.round(x[i],decimals=3)]\n",
    "\n",
    "    s2 = []\n",
    "    for i in range(n_x):\n",
    "        if G2[i] != 0:\n",
    "            s2 += G2[i] * [np.round(x[i],decimals=3)]\n",
    "\n",
    "    s1 = np.array(s1)\n",
    "    s2 = np.array(s2)\n",
    "\n",
    "    N_samples1 = s1.size\n",
    "    N_samples2 = s2.size\n",
    "    y_score = np.concatenate((s1, s2))\n",
    "    y_true = np.concatenate((np.zeros(N_samples1), np.ones(N_samples2))).astype(int)\n",
    "\n",
    "    AUC[m] = metrics.roc_auc_score(y_true, y_score)\n",
    "\n",
    "# plt.plot(all_sigmas, AUC)\n",
    "# plt.ylabel('AUC')\n",
    "# plt.xlabel('sigma')"
   ]
  },
  {
   "cell_type": "code",
   "execution_count": null,
   "id": "8aa176ca-0978-453c-9931-a04d0662a8cd",
   "metadata": {},
   "outputs": [],
   "source": [
    "print(AUC[np.where(all_sigmas == 72)[0][0]])"
   ]
  },
  {
   "cell_type": "code",
   "execution_count": null,
   "id": "b1272972-d485-49d1-a8f9-9be0d7e3caf8",
   "metadata": {},
   "outputs": [],
   "source": [
    "# Do everything above in a loop for sigma (note I increased the range of x here so I could try sigmas up to 50)\n",
    "x = np.arange(-400,401,0.1)\n",
    "n_x = x.size\n",
    "\n",
    "all_mus = [36 * i for i in range(10)]\n",
    "\n",
    "all_sigmas = np.arange(6,72,6)\n",
    "AUC = np.zeros(all_sigmas.size)\n",
    "for m in range(all_sigmas.size):\n",
    "    sigma = all_sigmas[m]\n",
    "    all_Gs = [norm.pdf(x, all_mus[i], sigma) for i in range(10)]\n",
    "\n",
    "    factor = 10000\n",
    "    for i in range(len(all_Gs)):\n",
    "        all_Gs[i] = np.round(all_Gs[i]*factor).astype(int)\n",
    "\n",
    "    # get samples\n",
    "    s1 = []\n",
    "    for i in range(n_x):\n",
    "        if all_Gs[4][i] != 0:\n",
    "            s1 += all_Gs[4][i] * [np.round(x[i],decimals=3)]\n",
    "\n",
    "    s2 = []\n",
    "    for j in range(4):\n",
    "        for i in range(n_x):\n",
    "            if all_Gs[j][i] != 0:\n",
    "                s2 += all_Gs[j][i] * [np.round(x[i],decimals=3)]\n",
    "    s3 = []\n",
    "    for j in range(5, len(all_Gs), 1):\n",
    "        for i in range(n_x):\n",
    "            if all_Gs[j][i] != 0:\n",
    "                s3 += all_Gs[j][i] * [np.round(x[i],decimals=3)]\n",
    "\n",
    "    s1 = np.array(s1)\n",
    "    s2 = np.array(s2)\n",
    "    s3 = np.array(s3)\n",
    "\n",
    "    N_samples1 = s1.size\n",
    "    N_samples2 = s2.size\n",
    "    N_samples3 = s3.size\n",
    "    y_score = np.concatenate((s2, s1, s3))\n",
    "    y_true = np.concatenate((np.ones(N_samples2), np.zeros(N_samples1), np.ones(N_samples3))).astype(int)\n",
    "\n",
    "    AUC[m] = metrics.roc_auc_score(y_true, y_score)\n",
    "\n",
    "print(AUC)    \n",
    "plt.plot(all_sigmas, AUC)\n",
    "plt.ylabel('AUC')\n",
    "plt.xlabel('sigma')"
   ]
  },
  {
   "cell_type": "code",
   "execution_count": null,
   "id": "c5aa752d-8671-4e88-9491-b4a9475de208",
   "metadata": {},
   "outputs": [],
   "source": [
    "for i in range(len(all_Gs)):\n",
    "    plt.plot(x, all_Gs[i]/factor, '--')\n",
    "    # plt.plot(x, all_Gs[5]/factor, '--')\n",
    "print(all_mus)"
   ]
  },
  {
   "cell_type": "code",
   "execution_count": null,
   "id": "7e273937-a6c3-4ea7-9e80-e89d06ecf0f0",
   "metadata": {},
   "outputs": [],
   "source": [
    "# Do everything above in a loop for mu\n",
    "x=np.arange(-100,101,0.1)\n",
    "n_x=x.size\n",
    "sigma=5\n",
    "\n",
    "mu1=0\n",
    "all_mus=np.arange(0,26)\n",
    "AUC=np.zeros(all_mus.size)\n",
    "for m in range(all_mus.size):\n",
    "    mu2=all_mus[m]\n",
    "    G1=np.exp((-(x-mu1)**2)/2/sigma**2)/sigma/np.sqrt(2*np.pi)\n",
    "    G2=np.exp((-(x-mu2)**2)/2/sigma**2)/sigma/np.sqrt(2*np.pi)\n",
    "\n",
    "    factor=10000\n",
    "    G1=np.round(G1*factor).astype(int)\n",
    "    G2=np.round(G2*factor).astype(int)\n",
    "\n",
    "    # get samples\n",
    "    s1=[]\n",
    "    for i in range(n_x):\n",
    "        if G1[i]!=0:\n",
    "            s1 += G1[i] * [np.round(x[i],decimals=3)]\n",
    "\n",
    "    s2=[]\n",
    "    for i in range(n_x):\n",
    "        if G2[i]!=0:\n",
    "            s2 += G2[i] * [np.round(x[i],decimals=3)]\n",
    "\n",
    "    s1=np.array(s1)\n",
    "    s2=np.array(s2)\n",
    "\n",
    "    N_samples1=s1.size\n",
    "    N_samples2=s2.size\n",
    "    y_score=np.concatenate((s1,s2))\n",
    "    y_true=np.concatenate((np.zeros(N_samples1),np.ones(N_samples2))).astype(int)\n",
    "\n",
    "    AUC[m]=metrics.roc_auc_score(y_true, y_score)\n",
    "\n",
    "plt.plot(all_mus,AUC)\n",
    "plt.ylabel('AUC')\n",
    "plt.xlabel('mu2')"
   ]
  },
  {
   "cell_type": "code",
   "execution_count": null,
   "id": "4d07f253-cbdf-42d8-90b4-0469390eb7b7",
   "metadata": {},
   "outputs": [],
   "source": [
    "x = np.arange(-200,201,0.1)\n",
    "n_x = x.size\n",
    "sigma = 36\n",
    "\n",
    "mu1 = 0\n",
    "mu2 = 36\n",
    "G1 = norm.pdf(x, mu1, sigma)\n",
    "G2 = norm.pdf(x, mu2, sigma)\n",
    "plt.plot(x,G1,x,G2)\n",
    "\n",
    "factor = 10000\n",
    "G1 = np.round(G1*factor).astype(int)\n",
    "G2 = np.round(G2*factor).astype(int)\n",
    "plt.plot(x, G2/factor, '--')\n",
    "plt.plot(x, G1/factor, '--')\n",
    "\n",
    "# get samples\n",
    "s1 = []\n",
    "for i in range(n_x):\n",
    "    if G1[i]!=0:\n",
    "        s1 += G1[i] * [np.round(x[i],decimals=3)]\n",
    "\n",
    "s2 = []\n",
    "for i in range(n_x):\n",
    "    if G2[i]!=0:\n",
    "        s2 += G2[i] * [np.round(x[i],decimals=3)]\n",
    "\n",
    "s1 = np.array(s1)\n",
    "s2 = np.array(s2)\n",
    "\n",
    "N_samples1 = s1.size\n",
    "N_samples2 = s2.size\n",
    "y_score = np.concatenate((s1,s2))\n",
    "y_true = np.concatenate((np.zeros(N_samples1),np.ones(N_samples2))).astype(int)\n",
    "\n",
    "metrics.roc_auc_score(y_true, y_score)"
   ]
  }
 ],
 "metadata": {
  "kernelspec": {
   "display_name": "Python 3 (ipykernel)",
   "language": "python",
   "name": "python3"
  },
  "language_info": {
   "codemirror_mode": {
    "name": "ipython",
    "version": 3
   },
   "file_extension": ".py",
   "mimetype": "text/x-python",
   "name": "python",
   "nbconvert_exporter": "python",
   "pygments_lexer": "ipython3",
   "version": "3.8.12"
  }
 },
 "nbformat": 4,
 "nbformat_minor": 5
}

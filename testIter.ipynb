{
 "cells": [
  {
   "cell_type": "code",
   "execution_count": 8,
   "id": "52a56a1c-fdd0-4b4f-b119-1115884ee18c",
   "metadata": {},
   "outputs": [],
   "source": [
    "import numpy as np\n",
    "import matplotlib.pyplot as plt\n",
    "from tqdm import tqdm\n",
    "from small2DNet import small2DNet\n",
    "from small3DNet import small3DNet\n",
    "from colorMNist import colorMNist\n",
    "import torch\n",
    "import pickle"
   ]
  },
  {
   "cell_type": "code",
   "execution_count": 9,
   "id": "07770a33-c688-4743-8819-118cd7277d6f",
   "metadata": {},
   "outputs": [],
   "source": [
    "def avg_acc(x, y, mtype, dataset_length, n_exp, model_layers2, model_layers3, features, hue_shift=-1):\n",
    "    accuracies = []\n",
    "    for iteration in tqdm(range(2, 13, 2), total=6, desc=f\"{x} {y} {mtype} {dataset_length}\"):\n",
    "        # Load dataset\n",
    "        with open(\"custom_datasets/\" + str(dataset_length) + '/' + y + \".pkl\", \"rb\") as f:\n",
    "            cmnist_train, cmnist_val, cmnist_test = pickle.load(f)\n",
    "            test_dataset = colorMNist(cmnist_test)\n",
    "            test_dataloader = torch.utils.data.DataLoader(test_dataset, batch_size=32, shuffle=False, num_workers = 0)\n",
    "\n",
    "            # Layers of the model\n",
    "            model_layers = model_layers2 if mtype == 2 else model_layers3\n",
    "            # Create model\n",
    "            model = small2DNet(model_layers, model_layers[-2], features[0]) if mtype == 2 else small3DNet(model_layers, model_layers[-2], features[1])\n",
    "            # Load file\n",
    "            extra = \"\" if hue_shift == -1 else \"_\" + str(hue_shift)\n",
    "            lfile = \"C-Gaussian\" + str(mtype) + \"D_\" + x + extra\n",
    "            # Load model\n",
    "            model.load_state_dict(torch.load('Experiments/cmnist/model_saves/' + str(n_exp) + '/' + str(dataset_length)\n",
    "                                             + '/' + str(iteration) + '/' + lfile + '.pth'))\n",
    "            # model.load_state_dict(torch.load('testsave/' + lfile + '.pth'))\n",
    "            # Put model on gpu\n",
    "            model.cuda()\n",
    "\n",
    "            # Total and amount correct\n",
    "            test_correct = 0\n",
    "            test_total = 0\n",
    "\n",
    "            # Put the model in evaluation mode\n",
    "            model.eval()\n",
    "\n",
    "            # Without gradient calculation\n",
    "            with torch.no_grad():\n",
    "                for (images, labels) in test_dataloader:\n",
    "\n",
    "                    # Add extra dimension for the network\n",
    "                    if mtype == 3:\n",
    "                        images = images.unsqueeze(1)\n",
    "\n",
    "                    # Put images\n",
    "                    images = images.cuda()\n",
    "\n",
    "                    # Predicted labels\n",
    "                    preds = model(images)\n",
    "\n",
    "                    # Top predictions per image\n",
    "                    _, top_preds = torch.max(preds, 1)\n",
    "\n",
    "                    # Predictions and images back on cpu\n",
    "                    top_preds = top_preds.cpu()\n",
    "                    images = images.cpu()\n",
    "\n",
    "                    # Amount of correct predictions\n",
    "                    predictions = [top_preds[i].item() == labels[i].item() for i in range(len(labels))]\n",
    "                    correct = np.sum(predictions)\n",
    "\n",
    "                    # Update total correct and total images\n",
    "                    test_correct += correct\n",
    "                    test_total += len(images)\n",
    "\n",
    "            accuracies.append(test_correct / test_total)\n",
    "    return accuracies"
   ]
  },
  {
   "cell_type": "code",
   "execution_count": null,
   "id": "8faf62cd-d8bb-4edf-9e7f-fc381786aa29",
   "metadata": {},
   "outputs": [],
   "source": [
    "datasets = [[\"0\", \"cmnist_deterministic\"], [\"12\", \"cmnist_gaussian_12\"], [\"60\", \"cmnist_gaussian_60\"],\n",
    "            [\"120\", \"cmnist_gaussian_120\"], [\"uniform\", \"cmnist_gaussian_uniform\"]]\n",
    "dataset_lengths = [\"5k\"]\n",
    "\n",
    "tot_accs2 = []\n",
    "tot_accs3 = []\n",
    "\n",
    "print(dataset_lengths[0][:-2])\n",
    "for dl in dataset_lengths:\n",
    "    for x, y in datasets:\n",
    "        n_exp = 1\n",
    "        tot_accs2.append(avg_acc(x, y, 2, dl, n_exp))\n",
    "        tot_accs3.append(avg_acc(x, y, 3, dl, n_exp))"
   ]
  },
  {
   "cell_type": "code",
   "execution_count": 27,
   "id": "ecc3bb19-d862-401c-9960-37e528b5c8be",
   "metadata": {},
   "outputs": [],
   "source": [
    "y2_mean = []\n",
    "y2_std = []\n",
    "y3_mean = []\n",
    "y3_std = []\n",
    "for i in range(len(tot_accs2)):\n",
    "    y2_mean.append(np.mean(tot_accs2[i]))\n",
    "    y2_std.append(np.std(tot_accs2[i]))\n",
    "    y3_mean.append(np.mean(tot_accs3[i]))\n",
    "    y3_std.append(np.std(tot_accs3[i]))"
   ]
  },
  {
   "cell_type": "code",
   "execution_count": null,
   "id": "32ae7bd6-1524-4cf2-bf4b-c0964104c638",
   "metadata": {},
   "outputs": [],
   "source": [
    "print(\"y2_mean = \" + str(y2_mean))\n",
    "print(\"y2_std = \" + str(y2_std))\n",
    "print(\"y3_mean = \" + str(y3_mean))\n",
    "print(\"y3_std = \" + str(y3_std))"
   ]
  },
  {
   "cell_type": "code",
   "execution_count": 29,
   "id": "f6bf0ba5-9268-4cff-98e7-9b85082c0a71",
   "metadata": {},
   "outputs": [],
   "source": [
    "np.savetxt(\"plots/pt_color_uniform.txt\", [y2_mean, y2_std, y3_mean, y3_std])"
   ]
  },
  {
   "cell_type": "code",
   "execution_count": 11,
   "id": "61872287-127c-4fa1-8147-9ee28fdc9146",
   "metadata": {},
   "outputs": [
    {
     "name": "stderr",
     "output_type": "stream",
     "text": [
      "0 color_uniform 2 5k: 100%|██████████| 6/6 [00:10<00:00,  1.70s/it]\n",
      "0 color_uniform 3 5k: 100%|██████████| 6/6 [00:13<00:00,  2.22s/it]\n",
      "12 color_uniform 2 5k: 100%|██████████| 6/6 [00:10<00:00,  1.68s/it]\n",
      "12 color_uniform 3 5k: 100%|██████████| 6/6 [00:13<00:00,  2.31s/it]\n",
      "60 color_uniform 2 5k: 100%|██████████| 6/6 [00:10<00:00,  1.68s/it]\n",
      "60 color_uniform 3 5k: 100%|██████████| 6/6 [00:13<00:00,  2.31s/it]\n",
      "120 color_uniform 2 5k: 100%|██████████| 6/6 [00:10<00:00,  1.68s/it]\n",
      "120 color_uniform 3 5k: 100%|██████████| 6/6 [00:13<00:00,  2.32s/it]\n",
      "uniform color_uniform 2 5k: 100%|██████████| 6/6 [00:10<00:00,  1.70s/it]\n",
      "uniform color_uniform 3 5k: 100%|██████████| 6/6 [00:13<00:00,  2.30s/it]\n"
     ]
    }
   ],
   "source": [
    "datasets = [[\"0\", \"cmnist_deterministic\"], [\"12\", \"cmnist_gaussian_12\"], [\"60\", \"cmnist_gaussian_60\"],\n",
    "            [\"120\", \"cmnist_gaussian_120\"], [\"uniform\", \"cmnist_gaussian_uniform\"]]\n",
    "datasets = [[\"0\", \"color_uniform\"], [\"12\", \"color_uniform\"], [\"60\", \"color_uniform\"],\n",
    "            [\"120\", \"color_uniform\"], [\"uniform\", \"color_uniform\"]]\n",
    "dataset_lengths = [\"1k\", \"2k\", \"5k\", \"10k\", \"20k\", \"60k\"]\n",
    "dataset_lengths = [\"5k\"]\n",
    "n_exp = \"best\"\n",
    "model_layers2 = [84, \"M\", 165, \"M\", 333, \"M\"]\n",
    "model_layers3 = [32, \"M\", 64, \"M\", 128, \"M\"]\n",
    "features = [[1, 1], [3, 1, 1]]\n",
    "\n",
    "for dl in dataset_lengths:\n",
    "    tot_accs2 = []\n",
    "    tot_accs3 = []\n",
    "    for x, y in datasets:\n",
    "        tot_accs2.append(avg_acc(x, y, 2, dl, n_exp, model_layers2, model_layers3, features))\n",
    "        tot_accs3.append(avg_acc(x, y, 3, dl, n_exp, model_layers2, model_layers3, features))\n",
    "\n",
    "    y2_mean = []\n",
    "    y2_std = []\n",
    "    y3_mean = []\n",
    "    y3_std = []\n",
    "    for i in range(len(tot_accs2)):\n",
    "        y2_mean.append(np.mean(tot_accs2[i]))\n",
    "        y2_std.append(np.std(tot_accs2[i]))\n",
    "        y3_mean.append(np.mean(tot_accs3[i]))\n",
    "        y3_std.append(np.std(tot_accs3[i]))\n",
    "\n",
    "    np.savetxt(\"Experiments/cmnist/plots/best/color_uniform.txt\", [y2_mean, y2_std, y3_mean, y3_std])"
   ]
  },
  {
   "cell_type": "code",
   "execution_count": null,
   "id": "cb29f9a8-b67f-45c0-9f93-90795e3d056f",
   "metadata": {},
   "outputs": [],
   "source": []
  }
 ],
 "metadata": {
  "kernelspec": {
   "display_name": "Python 3 (ipykernel)",
   "language": "python",
   "name": "python3"
  },
  "language_info": {
   "codemirror_mode": {
    "name": "ipython",
    "version": 3
   },
   "file_extension": ".py",
   "mimetype": "text/x-python",
   "name": "python",
   "nbconvert_exporter": "python",
   "pygments_lexer": "ipython3",
   "version": "3.8.12"
  }
 },
 "nbformat": 4,
 "nbformat_minor": 5
}
